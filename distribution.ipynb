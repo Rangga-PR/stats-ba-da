{
 "cells": [
  {
   "cell_type": "markdown",
   "metadata": {},
   "source": [
    "Distribution is a mathematical function that refers how values in a dataset are spread or arranged. this can help to understand the patterns and calculates the probabilities of data points occuring."
   ]
  },
  {
   "cell_type": "markdown",
   "metadata": {},
   "source": [
    "### **Types of Distributions**"
   ]
  },
  {
   "cell_type": "markdown",
   "metadata": {},
   "source": [
    "**Discrete Distribution**\n",
    "\n",
    "A discrete distribution is used for discrete data, where values are distinct and finite.\n",
    "\n",
    "Example: Number of website visits per day (0, 1, 2, … but not 2.5).\n",
    "\n",
    "Common Discrete Distributions:\n",
    "- Bernoulli Distribution: Binary outcome (success/failure, 1/0).\n",
    "- Binomial Distribution: Number of successes in multiple trials (flipping a coin 10 times)."
   ]
  },
  {
   "cell_type": "markdown",
   "metadata": {},
   "source": [
    "**Continuous Distribution**\n",
    "\n",
    "A continuous distribution is used for continuous data, where values can take any number within a range.\n",
    "\n",
    "Example: Heights of students (160.5 cm, 170.2 cm, etc.).\n",
    "\n",
    "Common Continuous Distributions:\n",
    "- Normal Distribution (Gaussian Distribution): Bell-shaped curve, common in nature (e.g., heights, IQ scores).\n",
    "- Exponential Distribution: Time between random events (e.g., time until a car accident occurs).\n",
    "- Uniform Distribution: All values have equal probability (e.g., rolling a fair die with values between 1 and 6)."
   ]
  },
  {
   "cell_type": "code",
   "execution_count": null,
   "metadata": {},
   "outputs": [],
   "source": [
    "import numpy as np\n",
    "import matplotlib.pyplot as plt\n",
    "from scipy.stats import binom, norm\n",
    "\n",
    "# Creating a figure\n",
    "plt.figure(figsize=(12, 6))\n",
    "\n",
    "# Discrete Distribution: Binomial (Example: Flipping a Coin 10 Times)\n",
    "n, p = 10, 0.5  # 10 trials, 50% success probability\n",
    "x_binom = np.arange(0, 11)\n",
    "y_binom = binom.pmf(x_binom, n, p)\n",
    "plt.subplot(1, 2, 1)\n",
    "plt.bar(x_binom, y_binom, color='blue', alpha=0.7)\n",
    "plt.xlabel('Number of Successes')\n",
    "plt.ylabel('Probability')\n",
    "plt.title('Discreet Distribution')\n",
    "\n",
    "# Continuous Distribution: Normal (Example: Heights of People)\n",
    "x_norm = np.linspace(-3, 3, 100)\n",
    "y_norm = norm.pdf(x_norm, 0, 1)  # Mean=0, Std Dev=1\n",
    "plt.subplot(1, 2, 2)\n",
    "plt.plot(x_norm, y_norm, color='red')\n",
    "plt.xlabel('Value')\n",
    "plt.ylabel('Density')\n",
    "plt.title('Continuous Distribution')\n",
    "\n",
    "plt.tight_layout()\n",
    "plt.show()\n"
   ]
  },
  {
   "cell_type": "markdown",
   "metadata": {},
   "source": [
    "**Uniform Distribution (Evenly Spread Data)**\n",
    "\n",
    "All values occur with equal probability.\n",
    "\n",
    "Example: Rolling a fair die (1, 2, 3, 4, 5, and 6 are equally likely)."
   ]
  },
  {
   "cell_type": "code",
   "execution_count": null,
   "metadata": {},
   "outputs": [],
   "source": [
    "import numpy as np\n",
    "import matplotlib.pyplot as plt\n",
    "\n",
    "data = np.random.uniform(0, 10, 1000)  # Generating 1000 random numbers between 0 and 10\n",
    "plt.hist(data, bins=20, color='blue', alpha=0.7)\n",
    "plt.title('Uniform Distribution')\n",
    "plt.show()"
   ]
  },
  {
   "cell_type": "markdown",
   "metadata": {},
   "source": [
    "**Normal Distribution (Bell Curve)**\n",
    "Most common in real-world data (e.g., heights, IQ scores) and Follows the 68-95-99.7 Rule:\n",
    "- 68% of values are within 1 standard deviation (σ) of the mean (μ).\n",
    "- 95% are within 2σ.\n",
    "- 99.7% are within 3σ."
   ]
  },
  {
   "cell_type": "code",
   "execution_count": null,
   "metadata": {},
   "outputs": [],
   "source": [
    "from scipy.stats import norm\n",
    "\n",
    "data = np.random.normal(50, 10, 1000)  # Mean = 50, Std Dev = 10\n",
    "plt.hist(data, bins=30, density=True, alpha=0.6, color='red')\n",
    "\n",
    "x = np.linspace(20, 80, 100)\n",
    "plt.plot(x, norm.pdf(x, 50, 10), color='black')  # Theoretical normal curve\n",
    "plt.title('Normal Distribution')\n",
    "plt.show()"
   ]
  },
  {
   "cell_type": "markdown",
   "metadata": {},
   "source": [
    "**Skewed Distribution**\n",
    "\n",
    "- Right-skewed (Positive Skew): Tail is on the right (e.g., salaries, housing prices).\n",
    "- Left-skewed (Negative Skew): Tail is on the left (e.g., test scores where most students score high)."
   ]
  },
  {
   "cell_type": "markdown",
   "metadata": {},
   "source": [
    "Key Differences:\n",
    "\n",
    "|Feature|Left-Skewed (Negative Skew)|Right-Skewed (Positive Skew)|\n",
    "|---|---|---|\n",
    "|Peak (Mode)|On the right|On the left|\n",
    "|Tail Direction|Extends left (lower values)|Extends right (higher values)|\n",
    "|Mean vs. Median|Mean < Median|Mean > Median|\n",
    "|Example|Test scores where most students score high|Income distribution where few earn very high salaries"
   ]
  },
  {
   "cell_type": "code",
   "execution_count": null,
   "metadata": {},
   "outputs": [],
   "source": [
    "import numpy as np\n",
    "import matplotlib.pyplot as plt\n",
    "\n",
    "# Set random seed for reproducibility\n",
    "np.random.seed(42)\n",
    "\n",
    "# Generate left-skewed data (Beta distribution)\n",
    "left_skewed_data = np.random.beta(a=5, b=2, size=1000) * 100  # Scale to 100\n",
    "\n",
    "# Generate right-skewed data (Exponential distribution)\n",
    "right_skewed_data = np.random.exponential(scale=20, size=1000)  # Scale controls spread\n",
    "\n",
    "# Create figure for side-by-side histograms\n",
    "plt.figure(figsize=(12, 5))\n",
    "\n",
    "# Left-Skewed Histogram (Negative Skew)\n",
    "plt.subplot(1, 2, 1)\n",
    "plt.hist(left_skewed_data, bins=30, color='purple', alpha=0.7, edgecolor='black')\n",
    "plt.xlabel(\"Values\")\n",
    "plt.ylabel(\"Frequency\")\n",
    "plt.title(\"Left-Skewed Distribution\")\n",
    "\n",
    "# Right-Skewed Histogram (Positive Skew)\n",
    "plt.subplot(1, 2, 2)\n",
    "plt.hist(right_skewed_data, bins=30, color='orange', alpha=0.7, edgecolor='black')\n",
    "plt.xlabel(\"Values\")\n",
    "plt.ylabel(\"Frequency\")\n",
    "plt.title(\"Right-Skewed Distribution\")\n",
    "\n",
    "# Show plots\n",
    "plt.tight_layout()\n",
    "plt.show()\n"
   ]
  }
 ],
 "metadata": {
  "kernelspec": {
   "display_name": ".venv",
   "language": "python",
   "name": "python3"
  },
  "language_info": {
   "codemirror_mode": {
    "name": "ipython",
    "version": 3
   },
   "file_extension": ".py",
   "mimetype": "text/x-python",
   "name": "python",
   "nbconvert_exporter": "python",
   "pygments_lexer": "ipython3",
   "version": "3.13.0"
  }
 },
 "nbformat": 4,
 "nbformat_minor": 2
}
