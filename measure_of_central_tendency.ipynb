{
 "cells": [
  {
   "cell_type": "markdown",
   "metadata": {},
   "source": [
    "In statistics, mean, median, and mode are used to describe the center of a dataset. Each measure gives a different perspective on how data is distributed."
   ]
  },
  {
   "cell_type": "markdown",
   "metadata": {},
   "source": [
    "**Mean (Average)**\n",
    "\n",
    "The mean is the sum of all values divided by the number of values.\n",
    "It is sensitive to outliers, meaning extreme values can pull the mean up or down."
   ]
  },
  {
   "cell_type": "markdown",
   "metadata": {},
   "source": [
    "**Median (Middle Value)**\n",
    "\n",
    "The median is the middle value when data is sorted in ascending order.\n",
    "Not affected by outliers, making it a better choice when data is skewed."
   ]
  },
  {
   "cell_type": "markdown",
   "metadata": {},
   "source": [
    "**Mode (Most Frequent Value)**\n",
    "\n",
    "The mode is the value that appears the most in a dataset."
   ]
  },
  {
   "cell_type": "code",
   "execution_count": null,
   "metadata": {},
   "outputs": [],
   "source": [
    "import numpy as np\n",
    "import matplotlib.pyplot as plt\n",
    "from scipy import stats\n",
    "\n",
    "# Create a right-skewed dataset\n",
    "data = np.random.exponential(scale=2, size=1000)\n",
    "\n",
    "# Calculate mean, median, and mode\n",
    "mean = np.mean(data)\n",
    "median = np.median(data)\n",
    "mode = stats.mode(data, keepdims=True)[0][0]\n",
    "\n",
    "# Plot histogram\n",
    "plt.figure(figsize=(10, 5))\n",
    "plt.hist(data, bins=30, color='orange', alpha=0.7, edgecolor='black')\n",
    "\n",
    "plt.axvline(mean, color='red', linestyle='dashed', linewidth=2, label=f\"Mean: {mean:.2f}\")\n",
    "plt.axvline(median, color='blue', linestyle='dashed', linewidth=2, label=f\"Median: {median:.2f}\")\n",
    "plt.axvline(mode, color='green', linestyle='dashed', linewidth=2, label=f\"Mode: {mode:.2f}\")\n",
    "\n",
    "plt.xlabel(\"Values\")\n",
    "plt.ylabel(\"Frequency\")\n",
    "plt.title(\"Right-Skewed Distribution: Mean, Median, and Mode\")\n",
    "plt.legend()\n",
    "plt.show()"
   ]
  },
  {
   "cell_type": "markdown",
   "metadata": {},
   "source": [
    "### **Comparing Mean, Median, and Mode in Different Distributions**\n",
    "\n",
    "|Distribution Type|Mean vs. Median vs. Mode|\n",
    "|---|---|\n",
    "|Normal Distribution (Symmetrical)|Mean = Median = Mode|\n",
    "|Right-Skewed (Positive Skew)|Mean > Median > Mode|\n",
    "|Left-Skewed (Negative Skew)|Mode > Median > Mean|\n"
   ]
  }
 ],
 "metadata": {
  "kernelspec": {
   "display_name": ".venv",
   "language": "python",
   "name": "python3"
  },
  "language_info": {
   "codemirror_mode": {
    "name": "ipython",
    "version": 3
   },
   "file_extension": ".py",
   "mimetype": "text/x-python",
   "name": "python",
   "nbconvert_exporter": "python",
   "pygments_lexer": "ipython3",
   "version": "3.13.0"
  }
 },
 "nbformat": 4,
 "nbformat_minor": 2
}
