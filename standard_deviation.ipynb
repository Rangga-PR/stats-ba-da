{
 "cells": [
  {
   "cell_type": "markdown",
   "metadata": {},
   "source": [
    "Standard deviation(σ) measures how spread out the data points are from the mean. It tells us whether the data is closely packed or widely dispersed."
   ]
  },
  {
   "cell_type": "markdown",
   "metadata": {},
   "source": [
    "**Understanding Standard Deviation**\n",
    "\n",
    "- Low Standard Deviation → Data points are close to the mean (less variation).\n",
    "- High Standard Deviation → Data points are far from the mean (more variation).\n",
    "\n",
    "Example: Suppose we have two datasets of test scores:\n",
    "- Dataset A: [48, 50, 52, 50, 49] → Low spread, low standard deviation\n",
    "- Dataset B: [30, 70, 20, 90, 50] → High spread, high standard deviation\n",
    "\n",
    "Both have the same mean, but Dataset B has more variation."
   ]
  },
  {
   "cell_type": "markdown",
   "metadata": {},
   "source": [
    "**Formula for Standard Deviation**\n",
    "\n",
    "for population: \n",
    "\n",
    "![standard deviation for population](assets/sd-population.png)\n",
    "\n",
    "where:\n",
    "\n",
    "- Xi​ = individual data points\n",
    "- μ = population mean\n",
    "- N = population size"
   ]
  },
  {
   "cell_type": "code",
   "execution_count": null,
   "metadata": {},
   "outputs": [],
   "source": [
    "import numpy as np\n",
    "\n",
    "# Sample dataset (test scores)\n",
    "data = [48, 50, 52, 50, 49, 47, 51, 53, 50, 48]\n",
    "\n",
    "# Calculate standard deviation\n",
    "std_population = np.std(data)   # Population Standard Deviation\n",
    "\n",
    "print(f\"Population Standard Deviation: {std_population:.2f}\")\n"
   ]
  },
  {
   "cell_type": "markdown",
   "metadata": {},
   "source": [
    "for sample: \n",
    "\n",
    "![standard deviation for population](assets/sd-sample.png)\n",
    "\n",
    "where:\n",
    "\n",
    "- Xi​ = individual data points\n",
    "- x̄ = sample mean\n",
    "- n = sample size"
   ]
  },
  {
   "cell_type": "code",
   "execution_count": null,
   "metadata": {},
   "outputs": [],
   "source": [
    "import numpy as np\n",
    "\n",
    "# Sample dataset (test scores)\n",
    "data = [48, 50, 52, 50, 49, 47, 51, 53, 50, 48]\n",
    "\n",
    "# Calculate standard deviation\n",
    "std_sample = np.std(data, ddof=1)  # Sample Standard Deviation (ddof=1 adjusts for sample)\n",
    "\n",
    "print(f\"Sample Standard Deviation: {std_sample:.2f}\")\n"
   ]
  },
  {
   "cell_type": "markdown",
   "metadata": {},
   "source": [
    "**Standard Deviation and Normal Distribution**\n",
    "\n",
    "In a normal distribution, most data falls within specific standard deviations:\n",
    "- 68% of data is within 1 standard deviation of the mean.\n",
    "- 95% is within 2 standard deviations.\n",
    "- 99.7% is within 3 standard deviations."
   ]
  },
  {
   "cell_type": "code",
   "execution_count": null,
   "metadata": {},
   "outputs": [],
   "source": [
    "import numpy as np\n",
    "import matplotlib.pyplot as plt\n",
    "\n",
    "# Generate normally distributed data\n",
    "np.random.seed(42)\n",
    "data = np.random.normal(loc=50, scale=10, size=1000)  # Mean=50, Std Dev=10\n",
    "\n",
    "# Calculate mean and standard deviation\n",
    "mean = np.mean(data)\n",
    "std_dev = np.std(data)\n",
    "\n",
    "# Create histogram\n",
    "plt.figure(figsize=(10, 5))\n",
    "plt.hist(data, bins=30, color='blue', alpha=0.6, edgecolor='black')\n",
    "\n",
    "# Plot mean and standard deviation lines\n",
    "plt.axvline(mean, color='red', linestyle='dashed', linewidth=2, label=\"Mean\")\n",
    "plt.axvline(mean - std_dev, color='green', linestyle='dashed', linewidth=2, label=\"1 Std Dev\")\n",
    "plt.axvline(mean + std_dev, color='green', linestyle='dashed', linewidth=2)\n",
    "plt.axvline(mean - 2*std_dev, color='purple', linestyle='dashed', linewidth=2, label=\"2 Std Dev\")\n",
    "plt.axvline(mean + 2*std_dev, color='purple', linestyle='dashed', linewidth=2)\n",
    "\n",
    "plt.xlabel(\"Values\")\n",
    "plt.ylabel(\"Frequency\")\n",
    "plt.title(\"Normal Distribution with Standard Deviation\")\n",
    "plt.legend()\n",
    "plt.show()\n"
   ]
  }
 ],
 "metadata": {
  "kernelspec": {
   "display_name": ".venv",
   "language": "python",
   "name": "python3"
  },
  "language_info": {
   "codemirror_mode": {
    "name": "ipython",
    "version": 3
   },
   "file_extension": ".py",
   "mimetype": "text/x-python",
   "name": "python",
   "nbconvert_exporter": "python",
   "pygments_lexer": "ipython3",
   "version": "3.13.0"
  }
 },
 "nbformat": 4,
 "nbformat_minor": 2
}
