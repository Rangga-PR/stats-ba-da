{
 "cells": [
  {
   "cell_type": "markdown",
   "metadata": {},
   "source": [
    "The Z-score (standard score) measures how many standard deviations a data point is from the mean of a distribution."
   ]
  },
  {
   "cell_type": "markdown",
   "metadata": {},
   "source": [
    "**Formula**\n",
    "\n",
    "![z-score formula](assets/z-score-formula.png)\n",
    "\n",
    "- 𝑍 = Z-score\n",
    "- 𝑋 = Data point (observation)\n",
    "- 𝜇 = Population mean\n",
    "- 𝜎 = Population standard deviation"
   ]
  },
  {
   "cell_type": "markdown",
   "metadata": {},
   "source": [
    "**Interpretation**\n",
    "\n",
    "- 𝑍 = 0 → The data point is exactly at the mean.\n",
    "- 𝑍 > 0 → The data point is above the mean.\n",
    "- 𝑍 < 0 → The data point is below the mean.\n",
    "- 𝑍 > 2 or 𝑍 > 3 → The data point is an outlier (extreme value)."
   ]
  },
  {
   "cell_type": "markdown",
   "metadata": {},
   "source": [
    "**The Importance of Z-Score**\n",
    "\n",
    "- Standardization: Converts different datasets into a common scale.\n",
    "- Outlier Detection: Identifies extreme values in data.\n",
    "- Probability & Normal Distribution: Helps in finding probabilities using the Z-table.\n",
    "- Comparison Across Different Datasets: Useful when data comes from different sources with different units."
   ]
  },
  {
   "cell_type": "code",
   "execution_count": null,
   "metadata": {},
   "outputs": [],
   "source": [
    "import numpy as np\n",
    "\n",
    "# Example dataset: Exam scores\n",
    "scores = np.array([60, 70, 75, 85, 90, 95, 50])\n",
    "\n",
    "mean_score = np.mean(scores)\n",
    "std_dev = np.std(scores)\n",
    "\n",
    "z_scores = (scores - mean_score) / std_dev\n",
    "\n",
    "for i, score in enumerate(scores):\n",
    "    print(f\"Score: {score}, Z-score: {z_scores[i]:.2f}\")\n"
   ]
  },
  {
   "cell_type": "markdown",
   "metadata": {},
   "source": [
    "**Visualization**"
   ]
  },
  {
   "cell_type": "code",
   "execution_count": null,
   "metadata": {},
   "outputs": [],
   "source": [
    "import matplotlib.pyplot as plt\n",
    "import scipy.stats as stats\n",
    "import numpy as np\n",
    "\n",
    "# Generate normal distribution data\n",
    "x = np.linspace(-4, 4, 100)\n",
    "y = stats.norm.pdf(x, 0, 1)  # Standard normal distribution (mean=0, std=1)\n",
    "\n",
    "# Plot normal distribution\n",
    "plt.figure(figsize=(10, 5))\n",
    "plt.plot(x, y, color='blue')\n",
    "\n",
    "# Highlight Z = -2, -1, 0, 1, 2\n",
    "for z in [-2, -1, 0, 1, 2]:\n",
    "    plt.axvline(z, color='red', linestyle='dashed')\n",
    "    plt.text(z, 0.02, f'Z={z}', horizontalalignment='center', fontsize=12)\n",
    "\n",
    "plt.title(\"Z-Score on a Normal Distribution\")\n",
    "plt.xlabel(\"Z-Score\")\n",
    "plt.ylabel(\"Probability Density\")\n",
    "plt.show()"
   ]
  },
  {
   "cell_type": "markdown",
   "metadata": {},
   "source": [
    "**Z-Score and Empirical Rule (68-95-99.7 Rule)**\n",
    "\n",
    "For normally distributed data, Z-scores help us determine probabilities:\n",
    "- 68% of data falls within ±1 standard deviation (𝑍 ∈ [−1,1]).\n",
    "- 95% of data falls within ±2 standard deviations (𝑍 ∈ [−2,2]).\n",
    "- 99.7% of data falls within ±3 standard deviations (𝑍 ∈ [−3,3])."
   ]
  },
  {
   "cell_type": "markdown",
   "metadata": {},
   "source": [
    "**Predicting Probabilites using Z-Score**\n",
    "\n",
    "The Standard Normal Distribution Table (Z-Table).\n",
    "\n",
    "The Z-table gives the probability that a value is less than a given Z-score.\n",
    "\n",
    "These probabilities represent the cumulative area from the left of the Z-score.\n",
    "\n",
    "The total area under the normal curve = 1 (or 100%).\n",
    "\n",
    "Example:\n",
    "- Z = 1.0 → 84.13% of values are below this point.\n",
    "- Z = -1.0 → 15.87% of values are below this point.\n",
    "- Z = 0 → 50% of values are below the mean."
   ]
  },
  {
   "cell_type": "code",
   "execution_count": null,
   "metadata": {},
   "outputs": [],
   "source": [
    "import scipy.stats as stats\n",
    "\n",
    "X = 85  # Exam score\n",
    "mu = 70  # Mean\n",
    "sigma = 10  # Standard deviation\n",
    "\n",
    "# Calculate Z-score\n",
    "Z = (X - mu) / sigma\n",
    "\n",
    "# Find probability of a value being below a given z-score\n",
    "probability = stats.norm.cdf(Z)\n",
    "print(f\"Probability of scoring less than {X}: {probability:.4f}\")\n",
    "\n",
    "# Find probability of a value being above a given z-score\n",
    "probability_above = 1 - stats.norm.cdf(Z)\n",
    "print(f\"Probability of scoring more than {X}: {probability_above:.4f}\")\n",
    "\n",
    "# Find probability of a value falling between two z-scores\n",
    "X1 = 65  # Lower bound\n",
    "X2 = 85  # Upper bound\n",
    "\n",
    "Z1 = (X1 - mu) / sigma\n",
    "Z2 = (X2 - mu) / sigma\n",
    "\n",
    "prob_between = stats.norm.cdf(Z2) - stats.norm.cdf(Z1)\n",
    "print(f\"Probability of scoring between {X1} and {X2}: {prob_between:.4f}\")\n"
   ]
  },
  {
   "cell_type": "markdown",
   "metadata": {},
   "source": [
    "**Visualization**"
   ]
  },
  {
   "cell_type": "code",
   "execution_count": null,
   "metadata": {},
   "outputs": [],
   "source": [
    "import matplotlib.pyplot as plt\n",
    "import numpy as np\n",
    "import scipy.stats as stats\n",
    "\n",
    "x = np.linspace(40, 100, 1000)\n",
    "y = stats.norm.pdf(x, mu, sigma)\n",
    "\n",
    "plt.figure(figsize=(10, 5))\n",
    "plt.plot(x, y, color='blue')\n",
    "\n",
    "x_fill = np.linspace(40, 85, 500)\n",
    "y_fill = stats.norm.pdf(x_fill, mu, sigma)\n",
    "plt.fill_between(x_fill, y_fill, color='red', alpha=0.5)\n",
    "\n",
    "plt.title(\"Probability of Scoring Less Than 85\")\n",
    "plt.xlabel(\"Exam Score\")\n",
    "plt.ylabel(\"Density\")\n",
    "plt.axvline(X, color='black', linestyle='dashed', label=\"X = 85\")\n",
    "plt.legend()\n",
    "plt.show()"
   ]
  }
 ],
 "metadata": {
  "kernelspec": {
   "display_name": ".venv",
   "language": "python",
   "name": "python3"
  },
  "language_info": {
   "codemirror_mode": {
    "name": "ipython",
    "version": 3
   },
   "file_extension": ".py",
   "mimetype": "text/x-python",
   "name": "python",
   "nbconvert_exporter": "python",
   "pygments_lexer": "ipython3",
   "version": "3.13.0"
  }
 },
 "nbformat": 4,
 "nbformat_minor": 2
}
