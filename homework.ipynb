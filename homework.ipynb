{
 "cells": [
  {
   "cell_type": "markdown",
   "metadata": {},
   "source": [
    "**Homework 1**\n",
    "\n",
    "You are an Analyst working for a high-end clothes design botique.\n",
    "\n",
    "The company is developing a new line of clothes for very tall people. Your team is analyzing the viability of the project form a sales perspective and your manager has asked you to assist with some input variables to help test the financial forecast.\n",
    "\n",
    "You need to create two distributions:\n",
    "- A normal distribution of 1000 observations for heights of men in the US.\n",
    "- A normal distribution of 1000 observations for heights of women in the US.\n",
    "\n",
    "Also, for each of the populations you have been asked to identify the minimum height of 2.2% tallest people in that population.\n",
    "\n",
    "In the US, men's heights have a mean of 69.1 inches (175.5 cm) and standard deviation of 2.9 inches (7.4 cm), while female's heights have a mean of 63.7 inches (161.8 cm) and standard deviation of 2.7 inches (6.9 cm)."
   ]
  },
  {
   "cell_type": "code",
   "execution_count": null,
   "metadata": {},
   "outputs": [],
   "source": [
    "import numpy as np\n",
    "import scipy.stats as stats\n",
    "import matplotlib.pyplot as plt\n",
    "\n",
    "mean_men, std_men = 69.1, 2.9  # Men's height (inches)\n",
    "mean_women, std_women = 63.7, 2.7  # Women's height (inches)\n",
    "\n",
    "np.random.seed(42)\n",
    "heights_men = np.random.normal(mean_men, std_men, 1000)\n",
    "heights_women = np.random.normal(mean_women, std_women, 1000)\n",
    "\n",
    "# (top 2.2% cutoff)\n",
    "cutoff_men = stats.norm.ppf(0.978, mean_men, std_men)\n",
    "cutoff_women = stats.norm.ppf(0.978, mean_women, std_women)\n",
    "\n",
    "print(f\"Minimum height for the tallest 2.2% of men: {cutoff_men:.2f} inches\")\n",
    "print(f\"Minimum height for the tallest 2.2% of women: {cutoff_women:.2f} inches\")\n",
    "\n",
    "# Visualization\n",
    "plt.figure(figsize=(12, 5))\n",
    "\n",
    "# Histogram for men\n",
    "plt.hist(heights_men, bins=30, alpha=0.6, color='blue', label=\"Men's Heights\")\n",
    "plt.axvline(cutoff_men, color='blue', linestyle='dashed', linewidth=2, label=f\"98th Percentile (Men) = {cutoff_men:.2f} in\")\n",
    "\n",
    "# Histogram for women\n",
    "plt.hist(heights_women, bins=30, alpha=0.6, color='pink', label=\"Women's Heights\")\n",
    "plt.axvline(cutoff_women, color='red', linestyle='dashed', linewidth=2, label=f\"98th Percentile (Women) = {cutoff_women:.2f} in\")\n",
    "\n",
    "plt.title(\"Height Distributions of Men and Women in the US\")\n",
    "plt.xlabel(\"Height (inches)\")\n",
    "plt.ylabel(\"Frequency\")\n",
    "plt.legend()\n",
    "plt.show()"
   ]
  }
 ],
 "metadata": {
  "kernelspec": {
   "display_name": ".venv",
   "language": "python",
   "name": "python3"
  },
  "language_info": {
   "codemirror_mode": {
    "name": "ipython",
    "version": 3
   },
   "file_extension": ".py",
   "mimetype": "text/x-python",
   "name": "python",
   "nbconvert_exporter": "python",
   "pygments_lexer": "ipython3",
   "version": "3.13.0"
  }
 },
 "nbformat": 4,
 "nbformat_minor": 2
}
