{
 "cells": [
  {
   "cell_type": "markdown",
   "metadata": {},
   "source": [
    "**Homework 1**\n",
    "\n",
    "You are an Analyst working for a high-end clothes design botique.\n",
    "\n",
    "The company is developing a new line of clothes for very tall people. Your team is analyzing the viability of the project form a sales perspective and your manager has asked you to assist with some input variables to help test the financial forecast.\n",
    "\n",
    "You need to create two distributions:\n",
    "- A normal distribution of 1000 observations for heights of men in the US.\n",
    "- A normal distribution of 1000 observations for heights of women in the US.\n",
    "\n",
    "Also, for each of the populations you have been asked to identify the minimum height of 2.2% tallest people in that population.\n",
    "\n",
    "In the US, men's heights have a mean of 69.1 inches (175.5 cm) and standard deviation of 2.9 inches (7.4 cm), while female's heights have a mean of 63.7 inches (161.8 cm) and standard deviation of 2.7 inches (6.9 cm)."
   ]
  },
  {
   "cell_type": "code",
   "execution_count": null,
   "metadata": {},
   "outputs": [],
   "source": [
    "import numpy as np\n",
    "import scipy.stats as stats\n",
    "import matplotlib.pyplot as plt\n",
    "\n",
    "mean_men, std_men = 69.1, 2.9  # Men's height (inches)\n",
    "mean_women, std_women = 63.7, 2.7  # Women's height (inches)\n",
    "\n",
    "np.random.seed(42)\n",
    "heights_men = np.random.normal(mean_men, std_men, 1000)\n",
    "heights_women = np.random.normal(mean_women, std_women, 1000)\n",
    "\n",
    "# (top 2.2% cutoff)\n",
    "cutoff_men = stats.norm.ppf(0.978, mean_men, std_men)\n",
    "cutoff_women = stats.norm.ppf(0.978, mean_women, std_women)\n",
    "\n",
    "print(f\"Minimum height for the tallest 2.2% of men: {cutoff_men:.2f} inches\")\n",
    "print(f\"Minimum height for the tallest 2.2% of women: {cutoff_women:.2f} inches\")\n",
    "\n",
    "# Visualization\n",
    "plt.figure(figsize=(12, 5))\n",
    "\n",
    "# Histogram for men\n",
    "plt.hist(heights_men, bins=30, alpha=0.6, color='blue', label=\"Men's Heights\")\n",
    "plt.axvline(cutoff_men, color='blue', linestyle='dashed', linewidth=2, label=f\"98th Percentile (Men) = {cutoff_men:.2f} in\")\n",
    "\n",
    "# Histogram for women\n",
    "plt.hist(heights_women, bins=30, alpha=0.6, color='pink', label=\"Women's Heights\")\n",
    "plt.axvline(cutoff_women, color='red', linestyle='dashed', linewidth=2, label=f\"98th Percentile (Women) = {cutoff_women:.2f} in\")\n",
    "\n",
    "plt.title(\"Height Distributions of Men and Women in the US\")\n",
    "plt.xlabel(\"Height (inches)\")\n",
    "plt.ylabel(\"Frequency\")\n",
    "plt.legend()\n",
    "plt.show()"
   ]
  },
  {
   "cell_type": "markdown",
   "metadata": {},
   "source": [
    "**Homework 2**\n",
    "\n",
    "You are a Quant working for a Wall-Street investment fund.\n",
    "\n",
    "The team of traders under your supervision earns profits which can be approximated with a Laplace distribution. Profits have a mean of $95.70 and a standard deviation of $1,247.\n",
    "Your team makes about 100 trades every week.\n",
    "\n",
    "Questions:\n",
    "A. What is the probability of your team making a loss in any given week?\n",
    "B. What is the probability of your team making a over $20,000 in any given week?"
   ]
  },
  {
   "cell_type": "code",
   "execution_count": null,
   "metadata": {},
   "outputs": [],
   "source": [
    "import scipy.stats as stats\n",
    "\n",
    "mu_trade = 95.70  # Mean profit per trade\n",
    "sigma_trade = 1247  # Std dev per trade\n",
    "n_trades = 100  # Weekly trades\n",
    "\n",
    "#  distribution parameters\n",
    "mu_weekly = n_trades * mu_trade\n",
    "sigma_weekly = (n_trades**0.5) * sigma_trade  # Central Limit Theorem\n",
    "\n",
    "# Probability of making a loss\n",
    "z_loss = (0 - mu_weekly) / sigma_weekly\n",
    "p_loss = stats.norm.cdf(z_loss)\n",
    "\n",
    "# Probability of making over $20,000\n",
    "z_profit = (20000 - mu_weekly) / sigma_weekly\n",
    "p_profit = 1 - stats.norm.cdf(z_profit)\n",
    "\n",
    "print(f\"Probability of making a loss: {p_loss:.4f} ({p_loss*100:.2f}%)\")\n",
    "print(f\"Probability of making over $20,000: {p_profit:.4f} ({p_profit*100:.2f}%)\")"
   ]
  },
  {
   "cell_type": "markdown",
   "metadata": {},
   "source": [
    "**Homework 3**\n",
    "\n",
    "You are consultant engaged by a factory which manufacture spoons.\n",
    "\n",
    "The factory executives recently spent $10,000,000 upgrading equipment and processes in order to combat excessively high defects in manufacturing (23%) which were leading to high return rates from clients.\n",
    "\n",
    "You have been asked to prove (with a confidence level of 95%) that new equipment has improved the situation and that the number of defective spoons has decreased to under 18%. You have been supplied with a random sample of 150 spoons and found that 23 spoons have defects."
   ]
  },
  {
   "cell_type": "code",
   "execution_count": null,
   "metadata": {},
   "outputs": [],
   "source": [
    "import scipy.stats as stats\n",
    "import numpy as np\n",
    "\n",
    "p0 = 0.18  # Null hypothesis defect rate\n",
    "n = 150  # Sample size\n",
    "x = 23  # Defective spoons\n",
    "p_hat = x / n  # Sample proportion\n",
    "\n",
    "# standard error\n",
    "se = np.sqrt(p0 * (1 - p0) / n)\n",
    "\n",
    "# Z-score\n",
    "z = (p_hat - p0) / se\n",
    "\n",
    "# p-value\n",
    "p_value = stats.norm.cdf(z)\n",
    "\n",
    "print(f\"Sample Proportion: {p_hat:.4f}\")\n",
    "print(f\"Z-score: {z:.4f}\")\n",
    "print(f\"P-value: {p_value:.4f}\")\n",
    "\n",
    "# Decision\n",
    "alpha = 0.05\n",
    "if p_value < alpha:\n",
    "    print(\"Reject the null hypothesis: The defect rate has significantly decreased.\")\n",
    "else:\n",
    "    print(\"Fail to reject the null hypothesis: No strong evidence that the defect rate is below 18%.\")\n"
   ]
  }
 ],
 "metadata": {
  "kernelspec": {
   "display_name": ".venv",
   "language": "python",
   "name": "python3"
  },
  "language_info": {
   "codemirror_mode": {
    "name": "ipython",
    "version": 3
   },
   "file_extension": ".py",
   "mimetype": "text/x-python",
   "name": "python",
   "nbconvert_exporter": "python",
   "pygments_lexer": "ipython3",
   "version": "3.13.0"
  }
 },
 "nbformat": 4,
 "nbformat_minor": 2
}
