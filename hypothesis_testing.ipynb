{
 "cells": [
  {
   "cell_type": "markdown",
   "metadata": {},
   "source": [
    "Hypothesis testing is a statistical method used to make decisions based on data. It helps determine whether there is enough evidence to support a certain claim (hypothesis) about a population.\n",
    "\n",
    "Examples:\n",
    "- Checking if a new drug is more effective than an old one.\n",
    "- Determining if marketing campaigns increase sales.\n",
    "- Testing if a machine learning model performs better than random guessing."
   ]
  },
  {
   "cell_type": "markdown",
   "metadata": {},
   "source": [
    "### **Key Concepts**"
   ]
  },
  {
   "cell_type": "markdown",
   "metadata": {},
   "source": [
    "**1. Null Hypothesis (H0)**\n",
    "\n",
    "The default assumption (nothing special is happening).\n",
    "\n",
    "Example: \"The new drug has no effect compared to the old one.\""
   ]
  },
  {
   "cell_type": "markdown",
   "metadata": {},
   "source": [
    "**2. Alternative Hypothesis (H1)**\n",
    "\n",
    "The opposite of the null hypothesis (there is an effect).\n",
    "\n",
    "Example: \"The new drug is more effective than the old one.\""
   ]
  },
  {
   "cell_type": "markdown",
   "metadata": {},
   "source": [
    "**3. Significance Level (α)**\n",
    "\n",
    "The probability of rejecting H0 when it is actually true.\n",
    "\n",
    "Common values: 0.05 (5%) or 0.01 (1%)."
   ]
  },
  {
   "cell_type": "markdown",
   "metadata": {},
   "source": [
    "**4. p-Value**\n",
    "\n",
    "The probability of getting results at least as extreme as your data if H0 were true.\n",
    "\n",
    "- If p-value < α → Reject H0 (statistically significant result).\n",
    "- If p-value ≥ α → Fail to reject H0 (no strong evidence)."
   ]
  },
  {
   "cell_type": "markdown",
   "metadata": {},
   "source": [
    "### **Steps in Hypothesis Testing***\n",
    "- State the hypotheses (H0 & H1).\n",
    "- Choose a significance level (α, usually 0.05).\n",
    "- Select a test (e.g., t-test, chi-square test).\n",
    "- Compute the test statistic and p-value.\n",
    "- Compare the p-value with α and make a decision."
   ]
  },
  {
   "cell_type": "markdown",
   "metadata": {},
   "source": [
    "### **Types of Hypothesis Tests**\n",
    "\n",
    "| Test Type           | When to Use?                                   | Example                                                         |\n",
    "| ------------------- | ---------------------------------------------- | --------------------------------------------------------------- |\n",
    "| t-Test          | Comparing means (small sample, n < 30) | Is the average height of students = 170 cm?                     |\n",
    "| Z-Test          | Comparing means (large sample, n > 30) | Are the average salaries in two cities different?               |\n",
    "| Chi-Square Test | Comparing categorical data                 | Is there a relationship between gender and voting preference?   |\n",
    "| ANOVA (F-Test)  | Comparing 3 or more means                  | Do three different diets have different effects on weight loss? |"
   ]
  },
  {
   "cell_type": "markdown",
   "metadata": {},
   "source": []
  },
  {
   "cell_type": "markdown",
   "metadata": {},
   "source": [
    "### **Errors in Hypothestis Testing**\n",
    "\n",
    "|Error Type|Definition|Example|\n",
    "|---|---|---|\n",
    "|Type I Error (False Positive)|Rejecting H0​ when it is actually true|Concluding that a drug works when it doesn’t|\n",
    "|Type II Error (False Negative)|Failing to reject H0​ when it is false|Concluding that a drug doesn’t work when it actually does|\n",
    "\n",
    "💡 **Reducing Type I Error** → Lower α (e.g., 0.01 instead of 0.05).  \n",
    "💡 **Reducing Type II Error** → Increase sample size."
   ]
  },
  {
   "cell_type": "markdown",
   "metadata": {},
   "source": [
    "### **Example Scenario**\n",
    "\n",
    "A company claims that their average delivery time is less than 30 minutes. We test this with a sample of 10 deliveries.\n",
    "\n",
    "Hypotheses:\n",
    "- H0 : Average delivery time = 30 minutes (default claim).\n",
    "- H1: Average delivery time < 30 minutes (we suspect it's faster).\n",
    "\n",
    "Significance Level:\n",
    "- α = 0.05 (5%)\n",
    "\n",
    "Data Sample (minutes):\n",
    "[28, 29, 27, 31, 26, 30, 27, 28, 29, 26]"
   ]
  },
  {
   "cell_type": "code",
   "execution_count": null,
   "metadata": {},
   "outputs": [],
   "source": [
    "import scipy.stats as stats\n",
    "import numpy as np\n",
    "\n",
    "data = np.array([28, 29, 27, 31, 26, 30, 27, 28, 29, 26])\n",
    "\n",
    "# Population mean (claimed to be 30 minutes)\n",
    "mu = 30\n",
    "\n",
    "# Perform one-sample t-test\n",
    "t_stat, p_value = stats.ttest_1samp(data, mu)\n",
    "\n",
    "print(f\"T-Statistic: {t_stat:.4f}\")\n",
    "print(f\"P-Value: {p_value:.4f}\")\n",
    "\n",
    "# Decision based on alpha = 0.05\n",
    "alpha = 0.05\n",
    "if p_value < alpha:\n",
    "    print(\"Reject H0: The delivery time is significantly less than 30 minutes.\")\n",
    "else:\n",
    "    print(\"Fail to reject H0: No strong evidence that delivery time is less than 30 minutes.\")\n"
   ]
  }
 ],
 "metadata": {
  "kernelspec": {
   "display_name": ".venv",
   "language": "python",
   "name": "python3"
  },
  "language_info": {
   "codemirror_mode": {
    "name": "ipython",
    "version": 3
   },
   "file_extension": ".py",
   "mimetype": "text/x-python",
   "name": "python",
   "nbconvert_exporter": "python",
   "pygments_lexer": "ipython3",
   "version": "3.13.0"
  }
 },
 "nbformat": 4,
 "nbformat_minor": 2
}
