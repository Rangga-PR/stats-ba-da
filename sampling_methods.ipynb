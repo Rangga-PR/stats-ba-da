{
 "cells": [
  {
   "cell_type": "markdown",
   "metadata": {},
   "source": [
    "## **Probability Sampling**"
   ]
  },
  {
   "cell_type": "markdown",
   "metadata": {},
   "source": [
    "**1. Simple Random Sampling**\n",
    "\n",
    "Each member of the population has an equal chance of being selected.\n",
    "\n",
    "Example: Randomly selecting 100 students from a school of 5,000.\n",
    "\n",
    "Best for: When the population is homogeneous (similar characteristics).\n",
    "\n",
    "Limitation: Can be inefficient for large populations."
   ]
  },
  {
   "cell_type": "code",
   "execution_count": null,
   "metadata": {},
   "outputs": [],
   "source": [
    "import numpy as np\n",
    "\n",
    "# Create a population of 10,000 values\n",
    "population = np.arange(1, 10001)\n",
    "\n",
    "# Take a random sample of size 100\n",
    "sample = np.random.choice(population, size=100, replace=False)\n",
    "\n",
    "print(\"Random Sample:\", sample[:10])"
   ]
  },
  {
   "cell_type": "markdown",
   "metadata": {},
   "source": [
    "**2. Stratified Sampling**\n",
    "\n",
    "The population is divided into subgroups (strata), and samples are taken proportionally from each group.\n",
    "\n",
    "Example: A company wants to survey employees but ensures proportional representation from different departments (HR, IT, Sales).\n",
    "\n",
    "Best for: When the population has distinct groups (e.g., gender, income level).\n",
    "\n",
    "Limitation: Requires prior knowledge of population structure."
   ]
  },
  {
   "cell_type": "code",
   "execution_count": null,
   "metadata": {},
   "outputs": [],
   "source": [
    "import pandas as pd\n",
    "import numpy as np\n",
    "\n",
    "# Create a population with categories\n",
    "data = {'ID': np.arange(1, 101),\n",
    "        'Department': np.random.choice(['HR', 'IT', 'Sales'], size=100)}\n",
    "\n",
    "df = pd.DataFrame(data)\n",
    "\n",
    "# Perform stratified sampling\n",
    "sampled_df = df.groupby('Department').sample(n=5, random_state=42)\n",
    "\n",
    "print(sampled_df.head(10))"
   ]
  },
  {
   "cell_type": "markdown",
   "metadata": {},
   "source": [
    "**3. Systemic Sampling**\n",
    "\n",
    "Selects every k-th member from a population after a random start.\n",
    "\n",
    "Example: Selecting every 10th customer from a store's customer database.\n",
    "\n",
    "Best for: Large datasets where a patterned selection is practical.\n",
    "\n",
    "Limitation: Can introduce bias if there is a hidden pattern in the population."
   ]
  },
  {
   "cell_type": "code",
   "execution_count": null,
   "metadata": {},
   "outputs": [],
   "source": [
    "import numpy as np\n",
    "\n",
    "population = np.arange(1, 1001)  # Population of 1,000 people\n",
    "k = 10  # Every 10th person\n",
    "\n",
    "# Select every k-th person\n",
    "systematic_sample = population[::k]\n",
    "\n",
    "print(\"Systematic Sample:\", systematic_sample[:10])"
   ]
  },
  {
   "cell_type": "markdown",
   "metadata": {},
   "source": [
    "**4. Cluster Sampling**\n",
    "\n",
    "Instead of selecting individuals, entire groups (clusters) are randomly selected.\n",
    "\n",
    "Example: Selecting 5 random schools from a city and surveying all students in those schools.\n",
    "\n",
    "Best for: Geographically spread populations (e.g., cities, schools).\n",
    "\n",
    "Limitation: Less precise if clusters differ significantly."
   ]
  },
  {
   "cell_type": "code",
   "execution_count": null,
   "metadata": {},
   "outputs": [],
   "source": [
    "import pandas as pd\n",
    "import numpy as np\n",
    "\n",
    "# Create a dataset with \"clusters\" (schools)\n",
    "df = pd.DataFrame({'School_ID': np.repeat(np.arange(1, 11), 10), 'Student_ID': np.arange(1, 101)})\n",
    "\n",
    "# Randomly select 3 clusters (schools)\n",
    "selected_schools = np.random.choice(df['School_ID'].unique(), size=3, replace=False)\n",
    "\n",
    "# Select all students from those schools\n",
    "cluster_sample = df[df['School_ID'].isin(selected_schools)]\n",
    "\n",
    "print(cluster_sample.head(10))"
   ]
  },
  {
   "cell_type": "markdown",
   "metadata": {},
   "source": [
    "## **Non-Probability Sampling**"
   ]
  },
  {
   "cell_type": "markdown",
   "metadata": {},
   "source": [
    "**1. Convenience Sampling**\n",
    "\n",
    "Selecting the easiest individuals to reach.\n",
    "\n",
    "Example: Surveying only people in a shopping mall instead of all city residents.\n",
    "\n",
    "Limitation: High risk of bias because not everyone has an equal chance of being selected."
   ]
  },
  {
   "cell_type": "markdown",
   "metadata": {},
   "source": [
    "**2. Quota Sampling**\n",
    "\n",
    "Like stratified sampling, but selection is not random (based on quotas).\n",
    "\n",
    "Example: A survey ensures 50 men and 50 women are chosen, but interviewers pick them non-randomly.\n",
    "\n",
    "Limitation: Human selection bias can affect results."
   ]
  },
  {
   "cell_type": "markdown",
   "metadata": {},
   "source": [
    "**3. Snowball Sampling**\n",
    "\n",
    "Recruiting participants who refer others, useful for hard-to-reach groups.\n",
    "\n",
    "Example: Studying drug users or undocumented immigrants by asking them to refer friends.\n",
    "\n",
    "Limitation: Not representative of the entire population."
   ]
  }
 ],
 "metadata": {
  "kernelspec": {
   "display_name": ".venv",
   "language": "python",
   "name": "python3"
  },
  "language_info": {
   "codemirror_mode": {
    "name": "ipython",
    "version": 3
   },
   "file_extension": ".py",
   "mimetype": "text/x-python",
   "name": "python",
   "nbconvert_exporter": "python",
   "pygments_lexer": "ipython3",
   "version": "3.13.0"
  }
 },
 "nbformat": 4,
 "nbformat_minor": 2
}
