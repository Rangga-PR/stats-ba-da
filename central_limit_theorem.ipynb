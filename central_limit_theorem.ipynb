{
 "cells": [
  {
   "cell_type": "markdown",
   "metadata": {},
   "source": [
    "When we take multiple random samples from any distribution, the distribution of the sample means will approximate a normal distribution, regardless of the original distribution, as long as the sample size is large enough (typically 𝑛 ≥ 30)."
   ]
  },
  {
   "cell_type": "markdown",
   "metadata": {},
   "source": [
    "**The importance of Central Limit Theorem**\n",
    "\n",
    "- Allows us to use the normal distribution for inference (even when the original data is not normally distributed).\n",
    "- Enables hypothesis testing and confidence intervals in data science.\n",
    "- Foundation for many machine learning algorithms and statistical methods.\n",
    "\n"
   ]
  },
  {
   "cell_type": "markdown",
   "metadata": {},
   "source": [
    "**Properties of Central Limit Theorem**\n",
    "\n",
    "1. The Sample Mean Approaches Normality\n",
    "- Even if the population distribution is skewed, the sample means will be normally distributed as 𝑛 increases.\n",
    "2. The Mean of the Sample Means Approaches the Population Mean\n",
    "- If the population has mean 𝜇. then the sample means will also center around 𝜇.\n",
    "3. The Standard Deviation of the Sample Means Shrinks\n",
    "- The variability of the sample means decreases as 𝑛 increases.\n",
    "- The standard deviation of the sample means (Standard Error) is:\n",
    "\n",
    "    ![standard error](assets/sd-error.png)\n",
    "\n",
    "    𝜎𝑋ˉ= standard deviation of sample means\n",
    "\n",
    "    𝜎 = standard deviation of population\n",
    "\n",
    "    𝑛 = sample size\n"
   ]
  },
  {
   "cell_type": "code",
   "execution_count": null,
   "metadata": {},
   "outputs": [],
   "source": [
    "import numpy as np\n",
    "import matplotlib.pyplot as plt\n",
    "\n",
    "np.random.seed(42)\n",
    "population = np.random.exponential(scale=2, size=10000)\n",
    "\n",
    "num_samples = 1000 \n",
    "sample_size = 30 \n",
    "sample_means = []\n",
    "\n",
    "for _ in range(num_samples):\n",
    "    sample = np.random.choice(population, size=sample_size, replace=True)\n",
    "    sample_means.append(np.mean(sample))\n",
    "\n",
    "# Plot original skewed population distribution\n",
    "plt.figure(figsize=(12, 5))\n",
    "\n",
    "plt.subplot(1, 2, 1)\n",
    "plt.hist(population, bins=50, color='orange', alpha=0.7, edgecolor='black')\n",
    "plt.title(\"Original Skewed Population Distribution\")\n",
    "plt.xlabel(\"Value\")\n",
    "plt.ylabel(\"Frequency\")\n",
    "\n",
    "# Plot the sample means\n",
    "plt.subplot(1, 2, 2)\n",
    "plt.hist(sample_means, bins=50, color='blue', alpha=0.7, edgecolor='black')\n",
    "plt.title(\"Sample Means Approximate Normal Distribution\")\n",
    "plt.xlabel(\"Sample Mean\")\n",
    "plt.ylabel(\"Frequency\")\n",
    "\n",
    "plt.tight_layout()\n",
    "plt.show()\n"
   ]
  },
  {
   "cell_type": "markdown",
   "metadata": {},
   "source": [
    "**Population**\n",
    "\n",
    "A population is the entire group of individuals or items that we want to study.\n",
    "\n",
    "Example:\n",
    "- All students in a university.\n",
    "- All smartphones manufactured by a company.\n",
    "- All customers of an e-commerce website.\n",
    "\n",
    "Characteristics of Population:\n",
    "- Includes all members of a group.\n",
    "- Usually too large to study directly.\n",
    "- Represented by parameters (e.g., population mean 𝜇, population standard deviation 𝜎)."
   ]
  },
  {
   "cell_type": "markdown",
   "metadata": {},
   "source": [
    "**Sample**\n",
    "\n",
    "A sample is a subset of the population that is selected for study.\n",
    "\n",
    "Example:\n",
    "- 500 randomly selected students from a university.\n",
    "- 100 randomly tested smartphones from a factory.\n",
    "- A survey of 1,000 customers from an online store.\n",
    "\n",
    "Characteristics of a Sample:\n",
    "- Smaller than the population.\n",
    "- Should be randomly selected for unbiased results.\n",
    "- Represented by statistics (e.g., sample mean 𝑋ˉ, sample standard deviation 𝑠).\n",
    "\n",
    "Reasons of using a Sample instead of population:\n",
    "\n",
    "In real-world scenarios, analyzing an entire population is often impractical due to:\n",
    "- Time constraints (surveying millions of people takes too long).\n",
    "- High cost (testing all smartphones in a factory is expensive).\n",
    "- Data availability (we cannot measure all internet users).\n",
    "\n",
    "Thus, we use samples to estimate population characteristics. This is called statistical inference."
   ]
  },
  {
   "cell_type": "code",
   "execution_count": null,
   "metadata": {},
   "outputs": [],
   "source": [
    "import numpy as np\n",
    "\n",
    "# Create a \"population\" of 100,000 values\n",
    "np.random.seed(42)\n",
    "population = np.random.normal(loc=50000, scale=10000, size=100000)  # Mean=50,000, Std Dev=10,000\n",
    "\n",
    "# Take a random sample of size 1,000 from the population\n",
    "sample = np.random.choice(population, size=1000, replace=False)\n",
    "\n",
    "# Calculate statistics\n",
    "pop_mean = np.mean(population)  # Population mean\n",
    "pop_std = np.std(population)    # Population standard deviation\n",
    "sample_mean = np.mean(sample)   # Sample mean\n",
    "sample_std = np.std(sample, ddof=1)  # Sample standard deviation\n",
    "\n",
    "print(f\"Population Mean: {pop_mean:.2f}\")\n",
    "print(f\"Sample Mean: {sample_mean:.2f}\")\n",
    "print(f\"Population Standard Deviation: {pop_std:.2f}\")\n",
    "print(f\"Sample Standard Deviation: {sample_std:.2f}\")\n"
   ]
  },
  {
   "cell_type": "markdown",
   "metadata": {},
   "source": [
    "Key takeaways:\n",
    "\n",
    "- The sample mean is close to the population mean, but not exactly the same.\n",
    "- The sample standard deviation is slightly higher because we use 𝑛 − 1 (Bessel's correction) for unbiased estimation.\n",
    "- Larger sample sizes give better estimates of the population (as per the Law of Large Numbers)."
   ]
  }
 ],
 "metadata": {
  "kernelspec": {
   "display_name": ".venv",
   "language": "python",
   "name": "python3"
  },
  "language_info": {
   "codemirror_mode": {
    "name": "ipython",
    "version": 3
   },
   "file_extension": ".py",
   "mimetype": "text/x-python",
   "name": "python",
   "nbconvert_exporter": "python",
   "pygments_lexer": "ipython3",
   "version": "3.13.0"
  }
 },
 "nbformat": 4,
 "nbformat_minor": 2
}
