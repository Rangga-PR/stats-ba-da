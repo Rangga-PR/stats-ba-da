{
 "cells": [
  {
   "cell_type": "markdown",
   "metadata": {},
   "source": [
    "### **Discrete Values**\n",
    "\n",
    "Discrete values are countable and take on specific, separate numbers that cannot be broken down into smaller parts that still make sense in the context.\n",
    "\n",
    "Examples:\n",
    "- The number of students in a class (1, 2, 3, …, but not 2.5 students).\n",
    "- The number of cars in a parking lot (you can't have 3.7 cars)."
   ]
  },
  {
   "cell_type": "markdown",
   "metadata": {},
   "source": [
    "### **Continuous Values**\n",
    "\n",
    "Continuous values can take any value within a range that can be measured rather than counted and often involve decimals or fractions.\n",
    "\n",
    "Examples:\n",
    "- Height (e.g., 170.5 cm, 171.3 cm, etc.).\n",
    "- Weight (e.g., 65.2 kg, 65.25 kg, etc.).\n",
    "- Temperature (e.g., 36.5°C, 36.55°C)."
   ]
  },
  {
   "cell_type": "code",
   "execution_count": null,
   "metadata": {},
   "outputs": [],
   "source": [
    "import pandas as pd\n",
    "import matplotlib.pyplot as plt\n",
    "\n",
    "data = {\n",
    "    'Day': ['Monday', 'Tuesday', 'Wednesday', 'Thursday', 'Friday', 'Saturday', 'Sunday'],\n",
    "    'Items_Sold': [25, 30, 22, 27, 35, 40, 38],  # Discrete values\n",
    "    'Revenue': [500.50, 720.75, 460.25, 550.90, 810.30, 950.80, 910.60]  # Continuous values\n",
    "}\n",
    "\n",
    "df = pd.DataFrame(data)\n",
    "\n",
    "print(df)\n",
    "\n",
    "# Discrete Data\n",
    "plt.figure(figsize=(10, 4))\n",
    "plt.subplot(1, 2, 1)\n",
    "plt.bar(df['Day'], df['Items_Sold'], color='blue')\n",
    "plt.xlabel('Day of the Week')\n",
    "plt.ylabel('Items Sold')\n",
    "plt.title('Number of Items Sold (Discrete)')\n",
    "\n",
    "# Continuous Data\n",
    "plt.subplot(1, 2, 2)\n",
    "plt.plot(df['Day'], df['Revenue'], marker='o', linestyle='-', color='green')\n",
    "plt.xlabel('Day of the Week')\n",
    "plt.ylabel('Revenue ($)')\n",
    "plt.title('Total Revenue (Continuous)')\n",
    "\n",
    "plt.tight_layout()\n",
    "plt.show()\n"
   ]
  }
 ],
 "metadata": {
  "kernelspec": {
   "display_name": ".venv",
   "language": "python",
   "name": "python3"
  },
  "language_info": {
   "codemirror_mode": {
    "name": "ipython",
    "version": 3
   },
   "file_extension": ".py",
   "mimetype": "text/x-python",
   "name": "python",
   "nbconvert_exporter": "python",
   "pygments_lexer": "ipython3",
   "version": "3.13.0"
  }
 },
 "nbformat": 4,
 "nbformat_minor": 2
}
